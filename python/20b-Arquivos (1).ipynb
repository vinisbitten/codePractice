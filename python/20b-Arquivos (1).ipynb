{
 "cells": [
  {
   "cell_type": "markdown",
   "metadata": {},
   "source": [
    "# Aula 20b - Arquivos\n",
    "\n",
    "Este documento apresenta brevemente como ler dados de arquivos de texto na linguagem Python.\n",
    "\n",
    "## 1. Abrindo Arquivos em Python\n",
    "\n",
    "Para trabalhar com arquivos na linguagem Python,\n",
    "utilizamos a função `open`, que precisa de dois\n",
    "parâmetros:\n",
    "\n",
    "1. Uma string informando o caminho completo do arquivo a ser aberto\n",
    "    - Pode ser usada só com o nome do arquivo, para arquivos no mesmo \n",
    "      diretório do arquivo sendo executado\n",
    "2. Uma string informando a forma de abertura do arquivo\n",
    "    - Leitura: `\"r\"`\n",
    "    - Escrita: `\"w\"`\n",
    "    - Leitura e escrita: `\"r+\"`\n",
    "    - Escrita acrescentando ao final do arquivo: `\"a\"`\n",
    "\n",
    "Todo arquivo é aberto como arquivo de texto, a não\n",
    "ser quando assinalado com (`\"b\"`), que abre o\n",
    "arquivo como binário.\n",
    "\n",
    "Para os exemplos a seguir, baixe o arquivo [texto.txt](https://raw.githubusercontent.com/ect-info/POO_2021.2/master/docs/20b-arquivos/texto.txt) e mova-o para a mesma pasta deste\n",
    "notebook."
   ]
  },
  {
   "cell_type": "code",
   "execution_count": 1,
   "metadata": {},
   "outputs": [
    {
     "name": "stdout",
     "output_type": "stream",
     "text": [
      "<class '_io.TextIOWrapper'>\n"
     ]
    }
   ],
   "source": [
    "# Abrir um arquivo (modo leitura)\n",
    "\n",
    "# O arquivo lista.txt deve estar armazenado no mesmo diretório \n",
    "arq = open('texto.txt', 'r')\n",
    "print(type(arq)) # Tipo de arq\n",
    "\n",
    "# Fechar o arquivo! (sempre devemos fechar os arquivos abertos)\n",
    "arq.close()"
   ]
  },
  {
   "cell_type": "markdown",
   "metadata": {},
   "source": [
    "O código acima cria um objeto `arq` da classe `TextIOWrapper`\n",
    "(manipulador de arquivo de texto), abrindo o arquivo\n",
    "indicado no modo leitura.\n",
    "\n",
    "Depois de utilizar o arquivo, sempre deve ser chamado  o método `close` para liberar os recursos."
   ]
  },
  {
   "cell_type": "markdown",
   "metadata": {},
   "source": [
    "## 2. Arquivos e Exceções\n",
    "\n",
    "As operações com arquivos sempre podem lançar exceções. Portanto, é recomendado utilizar blocos ```try... except```. "
   ]
  },
  {
   "cell_type": "code",
   "execution_count": 2,
   "metadata": {},
   "outputs": [
    {
     "name": "stdout",
     "output_type": "stream",
     "text": [
      "[Errno 2] No such file or directory: 'arq_que_nao_existe.txt'\n"
     ]
    }
   ],
   "source": [
    "try:\n",
    "    arq = open('arq_que_nao_existe.txt', 'r') # o arquivo não existe!\n",
    "except Exception as err:\n",
    "    print(err)    \n",
    "finally:\n",
    "    arq.close() # bloco finally que sempre executa"
   ]
  },
  {
   "cell_type": "markdown",
   "metadata": {},
   "source": [
    "## 3. Lendo de Arquivos em Python\n",
    "\n",
    "Após aberto nos modos `r` ou `r+`, é possível\n",
    "ler as informações do arquivo com alguns métodos\n",
    "da classe ```TextIOWrapper```:\n",
    "\n",
    "- `readline`: retorna uma string contendo a próxima\n",
    "  linha do arquivo. Este método altera a posição do \"ponteiro\"\n",
    "  no arquivo para o início da próxima linha, então se o método\n",
    "  for chamado novamente, a linha apontada pelo ponteiro será lida.\n",
    "- `readlines`: retorna uma `list` de strings contendo todo o conteúdo \n",
    "  do arquivo, sendo uma linha do arquivo por item da lista.\n",
    "  Altera a posição do \"ponteiro\" no arquivo para o final do arquivo.\n",
    "- `read`: retorna uma string contendo todo o conteúdo do arquivo em \n",
    "  uma única string. Altera a posição do ponteiro no arquivo para o \n",
    "  final do arquivo."
   ]
  },
  {
   "cell_type": "code",
   "execution_count": 4,
   "metadata": {},
   "outputs": [
    {
     "name": "stdout",
     "output_type": "stream",
     "text": [
      "--- Ler todas as linhas v 1.0 ---\n",
      "linha 1\n",
      "\n",
      "segunda linha\n",
      "\n",
      "linha 03\n",
      "\n",
      "esta é a quarta linha\n",
      "\n",
      "5a. linha\n",
      "\n",
      "--- Ler todas as linhas v 2.0 ---\n",
      "linha 1\n",
      "segunda linha\n",
      "linha 03\n",
      "esta é a quarta linha\n",
      "5a. linha\n",
      "--- Ler todas as linhas v 3.0---\n",
      "linha 1\n",
      "segunda linha\n",
      "linha 03\n",
      "esta é a quarta linha\n",
      "5a. linha\n",
      "--- Ler todo o arquivo ---\n",
      "linha 1\n",
      "segunda linha\n",
      "linha 03\n",
      "esta é a quarta linha\n",
      "5a. linha\n"
     ]
    }
   ],
   "source": [
    "print('--- Ler todas as linhas v 1.0 ---')\n",
    "arq = open('texto.txt', 'r')\n",
    "try:\n",
    "    l = arq.readline()\n",
    "    while l: #EOF (end of file) == '' == False\n",
    "        print(l) #Note os 2 quebra linhas (\\n)\n",
    "        # para remover a quebra: print(l, end='') ou l = rstrip('\\n')\n",
    "        l = arq.readline()\n",
    "except Exception as err:\n",
    "    print(err)\n",
    "finally:\n",
    "    arq.close() #Sempre executar a operação close\n",
    "\n",
    "print('\\n--- Ler todas as linhas v 2.0 ---')\n",
    "arq = open('texto.txt', 'r')\n",
    "try:\n",
    "    for l in arq.readlines():\n",
    "        print(l, end='') \n",
    "except Exception as err:\n",
    "    print(err)\n",
    "finally:\n",
    "    arq.close()\n",
    "    \n",
    "print('\\n--- Ler todas as linhas v 3.0---')\n",
    "#Podemos iterar diretamente no objeto arq. A forma mais pythonica!\n",
    "arq = open('texto.txt', 'r')\n",
    "try:\n",
    "    for l in arq:\n",
    "        print(l, end='')\n",
    "except Exception as err:\n",
    "    print(err)\n",
    "finally:\n",
    "    arq.close()\n",
    "    \n",
    "print('\\n--- Ler todo o arquivo ---')\n",
    "arq = open('texto.txt', 'r')\n",
    "try:\n",
    "    print(arq.read())\n",
    "except Exception as err:\n",
    "    print(err)\n",
    "finally:\n",
    "    arq.close() #Sempre executar a operação close"
   ]
  },
  {
   "cell_type": "markdown",
   "metadata": {},
   "source": [
    "# 4. Escrevendo em Arquivos\n",
    "\n",
    "Após aberto nos modos `w`, `r+` ou `a`,\n",
    "é possível escrever informações no arquivo com alguns métodos\n",
    "da classe ```TextIOWrapper```:\n",
    "\n",
    "- `write`: escreve uma string passada como parâmetro no\n",
    "  arquivo (não adiciona quebra de linha)\n",
    "- `writelines`: escreve cada uma das strings contidas em uma lista\n",
    "  passada como parâmetro no arquivo (não adiciona quebra de linha)\n",
    "  \n",
    "Utilizando um editor de texto do sistema operacional, veja o conteúdo do arquivo novo.txt após executar o código."
   ]
  },
  {
   "cell_type": "code",
   "execution_count": null,
   "metadata": {},
   "outputs": [],
   "source": [
    "try:\n",
    "    arq = open('novo.txt', 'w')\n",
    "    arq.write('Texto 1\\n')\n",
    "    arq.write('Texto 2\\n')\n",
    "except Exception as err:\n",
    "    print(err)\n",
    "finally:\n",
    "    arq.close()\n",
    "\n",
    "try:\n",
    "    # O conteúdo é sobrescrito!\n",
    "    arq = open('novo.txt', 'w')\n",
    "    arq.write('Texto 3\\n')\n",
    "    arq.write('Texto 4\\n')\n",
    "except Exception as err:\n",
    "    print(err)\n",
    "finally:\n",
    "    arq.close()\n",
    "\n",
    "try:\n",
    "    #Adicionar no final \n",
    "    arq = open('novo.txt', 'a')\n",
    "    arq.write('Texto 5\\n')\n",
    "    arq.write('Texto 6\\n')\n",
    "except Exception as err:\n",
    "    print(err)\n",
    "finally:\n",
    "    arq.close()\n"
   ]
  },
  {
   "cell_type": "markdown",
   "metadata": {},
   "source": [
    "## 5. Trabalhando com Arquivos de Forma Pythônica\n",
    "\n",
    "A forma Pythônica de se trabalhar com arquivos é utilizando é utilizando o comando `with` seguido do comando `open` para abrir o arquivo desejado nomeando-o com um nome qualquer, como a seguir."
   ]
  },
  {
   "cell_type": "code",
   "execution_count": 6,
   "metadata": {},
   "outputs": [
    {
     "name": "stdout",
     "output_type": "stream",
     "text": [
      "linha 1\n",
      "segunda linha\n",
      "linha 03\n",
      "esta é a quarta linha\n",
      "5a. linha"
     ]
    }
   ],
   "source": [
    "# Abrir, ler e fechar (A forma mais pythonica)\n",
    "with open('texto.txt') as arq:\n",
    "    for l in arq:\n",
    "        print(l, end='')"
   ]
  },
  {
   "cell_type": "markdown",
   "metadata": {},
   "source": [
    "Quando o `with` é utilizado, um `try.. except/finally`\n",
    "é utilizado de forma implícita, deixando o código mais limpo.\n",
    "\n",
    "### Extra: como funciona o `with`\n",
    "\n",
    "O comando `with` foi criado para facilitar o trabalho\n",
    "com o uso de recursos, como arquivos.\n",
    "\n",
    "Este comando executa os métodos mágicos `__enter__`\n",
    "e `__exit__` de objetos considerados gerenciadores de\n",
    "recursos, tal como é a classe `TextIOWrapper`.\n",
    "\n",
    "O código da classe `C` a seguir implementa os métodos mágicos\n",
    "`__enter__` e `__exit__` de forma a deixá-los compatíveis\n",
    "com o uso esperado com o comando `with`."
   ]
  },
  {
   "cell_type": "code",
   "execution_count": null,
   "metadata": {},
   "outputs": [],
   "source": [
    "class C:\n",
    "    def __init__(self, val):\n",
    "        self.val = val\n",
    "        print('Init...')\n",
    "        \n",
    "    def m(self):\n",
    "        print('Método m...')\n",
    "        \n",
    "    def __enter__(self):\n",
    "        print('Entrando...')\n",
    "        return self \n",
    "    \n",
    "    def __exit__(self, ex_type, ex_value, ex_traceback):\n",
    "        #Não se preocupe por enquanto com os parâmetros desse método.\n",
    "        print(f'Saindo...{ex_type, ex_value, ex_traceback}')\n",
    "\n",
    "#Versão não pythonica\n",
    "c = C(3)\n",
    "c.__enter__()\n",
    "try:\n",
    "    c.m()\n",
    "finally:\n",
    "    c.__exit__(None,None,None)\n",
    "\n",
    "#Versão pythonica\n",
    "with C(3) as c2: #note que __enter__ retorna self\n",
    "    c2.m()\n",
    "\n",
    "with C(3) as c2: #note que __enter__ retorna self\n",
    "    print(f'{1 / 0}') # Divisão por 0 (lança uma exceção )\n",
    "    #Note que Python passa automaticamente os parâmetros necessários ao método __exit__\n",
    "    c2.m()\n"
   ]
  },
  {
   "cell_type": "markdown",
   "metadata": {},
   "source": [
    "Em suma, o bloco de código\n",
    "```\n",
    "with EXP:\n",
    "    BLOCO\n",
    "```\n",
    "\n",
    "é equivalente a\n",
    "```\n",
    "EXP.__enter__()\n",
    "try:\n",
    "    BLOCO\n",
    "finally:\n",
    "    EXP.__exit__(ex_type, ex_value, ex_traceback)\n",
    "```"
   ]
  },
  {
   "cell_type": "markdown",
   "metadata": {},
   "source": [
    "## Prática - 3.1b - Arquivo com Livros\n",
    "\n",
    "Um arquivo `.txt` está estruturado da seguinte forma:\n",
    "\n",
    "- A sua primeira linha contém um inteiro $n$ com a quantidade de \n",
    "  livros que estão no arquivo.\n",
    "- Logo após, o arquivo contém $3n$ linhas, que por sua vez possuem:\n",
    "    - O título de um livro\n",
    "    - O ano da edição do livro\n",
    "    - O ISBN (código identificador) do livro\n",
    "\n",
    "Considere a classe `Livro` especificada de acordo com a\n",
    "`Prática 3.1a` (com o lançamento de exceções implementado como pedido naquela prática).\n",
    "\n",
    "Implemente uma classe `LeitorLivro` que deve\n",
    "ler os dados dos livros de um arquivo `.txt` no\n",
    "formato acima.\n",
    "\n",
    "Atributos da classe:\n",
    "\n",
    "- `nome_arquivo`: `str` denotando o nome do arquivo a ser aberto\n",
    "- `livros`: `list` para armazenar uma lista de livros lida do arquivo\n",
    "- `arquivo`: `TextIOWrapper` para armazenar o arquivo sendo lido\n",
    "\n",
    "Unico método da interface pública da classe: `processa`.\n",
    "Este método é responsável por abrir o arquivo de nome `nome_arquivo` para ler os dados dos livros no arquivo.\n",
    "\n",
    "A sua classe deve obrigatoriamente ignorar livros com dados inválidos\n",
    "e adicionar livros com todos os dados válidos à lista de livros que\n",
    "é atributo de instância da classe.\n",
    "\n",
    "Por exemplo, uma ideia de código possível para o método seria:"
   ]
  },
  {
   "cell_type": "markdown",
   "metadata": {},
   "source": [
    "```\n",
    "def processa(self):\n",
    "    with open(self.nome_arquivo, 'r') as self.arquivo:\n",
    "        # Lê a a qtd. de livros n\n",
    "        # Para i = 0.. n-1\n",
    "            try:\n",
    "                l = Livro()\n",
    "                # Obtém título (método privado auxiliar)\n",
    "                # Obtém ano (método privado auxiliar)\n",
    "                # Obtém ISBN (método privado auxiliar)\n",
    "            except ExcecaoSistema as err: # (prática anterior)\n",
    "                # Imprime informação dos erros\n",
    "            else:\n",
    "                # Adiciona livro à self.livros\n",
    "```\n",
    "\n",
    "Ao fazer desta forma, o método é capaz de adicionar livros que foram lidos corretamente à lista e ignorar livros com dados (título, ano ou ISBN) inválidos.\n",
    "Isto acontece porque qualquer exceção levantada nas chamadas aos setters da classe `Livro` da prática anterior serão tratadas pelo `except ExcecaoSistema` apenas com a impressão do erro.\n",
    "Como o método contém um laço para ler `n` livros, a leitura\n",
    "do próximo livro será tentada para o próximo livro.\n",
    "\n",
    "Os seguintes arquivos `.txt` foram construídos para provocar\n",
    "diferentes exceções no seu programa:\n",
    "\n",
    "- [1_dados_corretos.txt](https://raw.githubusercontent.com/ect-info/POO_2021.2/master/docs/20b-arquivos/1_dados_corretos.txt): contém 3 livros válidos\n",
    "- [2_titulo_em_branco.txt](https://raw.githubusercontent.com/ect-info/POO_2021.2/master/docs/20b-arquivos/2_titulo_em_branco.txt): contém 3 livros. O segundo livro possui título em branco\n",
    "- [3_ano_invalido.txt](https://raw.githubusercontent.com/ect-info/POO_2021.2/master/docs/20b-arquivos/3_ano_invalido.txt): contém 3 livros. O terceiro livro possui ano inválido\n",
    "- [4_isbn_invalido.txt](https://raw.githubusercontent.com/ect-info/POO_2021.2/master/docs/20b-arquivos/4_isbn_invalido.txt): contém 3 livros. O terceiro livro possui ISBN inválido\n",
    "\n",
    "Utilize o block `main` a seguir para testar a sua classe."
   ]
  },
  {
   "cell_type": "code",
   "execution_count": null,
   "metadata": {},
   "outputs": [],
   "source": [
    "if __name__ == \"__main__\":\n",
    "    nom_arq = input('Insira o nome do arquivo: ')\n",
    "    leitor = LeitorLivros(nom_arq)\n",
    "    leitor.processa()\n",
    "\n",
    "    print('Livros lidos corretamente do arquivo:')\n",
    "    for l in leitor.livros:\n",
    "        print('\\t' + str(l))"
   ]
  }
 ],
 "metadata": {
  "kernelspec": {
   "display_name": "Python 3 (ipykernel)",
   "language": "python",
   "name": "python3"
  },
  "language_info": {
   "codemirror_mode": {
    "name": "ipython",
    "version": 3
   },
   "file_extension": ".py",
   "mimetype": "text/x-python",
   "name": "python",
   "nbconvert_exporter": "python",
   "pygments_lexer": "ipython3",
   "version": "3.9.7"
  }
 },
 "nbformat": 4,
 "nbformat_minor": 2
}
