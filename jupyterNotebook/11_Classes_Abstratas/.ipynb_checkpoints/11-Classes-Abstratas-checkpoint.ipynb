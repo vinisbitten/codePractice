{
 "cells": [
  {
   "cell_type": "markdown",
   "metadata": {},
   "source": [
    "# Aula 11 - Classes Abstratas\n",
    "\n",
    "Neste documento é apresentado como se trabalhar em Python com\n",
    "classes abstratas.\n",
    "\n",
    "## 1. Classes e métodos abstratos\n",
    "\n",
    "Em Python, uma classe é abstrata se ela atende as seguintes condições:\n",
    "\n",
    "- A classe herda da classe ```ABC``` (**A**bstract **B**ase **C**lass - classe abstrata base), do módulo ```abc```\n",
    "- A classe tem pelo menos um método abstrato (denotado com decorador `@abstractmethod`)\n",
    "\n",
    "Observe o exemplo de classe abstrata a seguir."
   ]
  },
  {
   "cell_type": "code",
   "execution_count": 1,
   "metadata": {},
   "outputs": [
    {
     "name": "stdout",
     "output_type": "stream",
     "text": [
      "3\n",
      "Metodo abstrato com implementação\n",
      "Metodo concreto\n"
     ]
    }
   ],
   "source": [
    "from abc import ABC, abstractmethod\n",
    "\n",
    "class A(ABC):\n",
    "    '''Exemplo de uma classe abstrata'''\n",
    "    def __init__(self, v):\n",
    "        self._v = v \n",
    "        \n",
    "    @abstractmethod\n",
    "    def ma1(self):\n",
    "        '''Método abstrato 1: sem implementação (apenas interface)'''\n",
    "        pass\n",
    "    \n",
    "    @abstractmethod\n",
    "    def ma2(self):\n",
    "        '''Método abstrato 2: com implementação'''\n",
    "        print('Metodo abstrato com implementação')\n",
    "    \n",
    "    def mc(self):\n",
    "        '''Método concreto'''\n",
    "        print('Metodo concreto')\n",
    "\n",
    "class B(A):\n",
    "    def __init__(self, v, v2):\n",
    "        super().__init__(v)\n",
    "        self.v2 = v2\n",
    "        \n",
    "    def ma1(self):\n",
    "        '''Implementando o método abstrato 1'''\n",
    "        self.v2 +=1\n",
    "        return self.v2\n",
    "    \n",
    "    def ma2(self):\n",
    "        '''Implementando o método abstrato 2'''\n",
    "        A.ma2(self)\n",
    "\n",
    "if __name__ == \"__main__\":\n",
    "    b = B(3,2)\n",
    "    print(b.ma1())\n",
    "    b.ma2()\n",
    "    b.mc()\n",
    "\n",
    "    # Erro ao criar instâncias de A:\n",
    "    # A é uma classe abstrata porque\n",
    "    # não existem implementações dos métodos abstrato ma1 e ma2\n",
    "    #a = A(3)\n",
    "    "
   ]
  },
  {
   "cell_type": "markdown",
   "metadata": {},
   "source": [
    "## 2. Exemplo: Contas bancárias\n",
    "\n",
    "A implementação a seguir mostra uma arquitetura orientada a objetos para o exemplo das contas bancárias utilizando a classe abstrata `Conta`."
   ]
  },
  {
   "cell_type": "code",
   "execution_count": 2,
   "metadata": {},
   "outputs": [
    {
     "name": "stdout",
     "output_type": "stream",
     "text": [
      "Titular: jose\n",
      "Num: 131\n",
      "Saldo: R$0.0\n",
      "------------------------\n",
      "Titular: maria\n",
      "Num: 144\n",
      "Saldo: R$0.0\n",
      "------------------------\n"
     ]
    }
   ],
   "source": [
    "from abc import ABC, abstractmethod\n",
    "\n",
    "# classe abstrata base para conta\n",
    "class Conta(ABC):\n",
    "    '''Conta bancária genérica'''\n",
    "    \n",
    "    # Observe que o construtor/inicializador é abstrato\n",
    "    @abstractmethod\n",
    "    def __init__(self, num, titular):\n",
    "        self._num = num\n",
    "        self._titular = titular\n",
    "        self.__saldo = 0.0\n",
    "\n",
    "    def __repr__(self):\n",
    "        '''representação do objeto como string '''\n",
    "        return f'{self.__class__.__name__} {self._num} - {self._titular}: R${self.__saldo}'\n",
    "    \n",
    "    def __str__(self):\n",
    "        s = 'Titular: {}\\n'.format(self._titular)\n",
    "        s += 'Num: {}\\n'.format(self._num)\n",
    "        s += 'Saldo: R${}'.format(self.__saldo)\n",
    "        s += '\\n------------------------'\n",
    "        return s\n",
    "\n",
    "    def saque(self, valor):\n",
    "        self._saldo -= valor\n",
    "        print('Saque de R${} realizado com sucesso'.format(valor))\n",
    "        if self._saldo < 0:\n",
    "            print('Conta com saldo negativo')\n",
    "    \n",
    "    def deposito(self, valor):\n",
    "        self._saldo += valor\n",
    "        print('Deposito de R${} realizado com sucesso'.format(valor))\n",
    "\n",
    "# classe concreta para conta corrente\n",
    "class ContaCorrente(Conta):\n",
    "    \n",
    "    #único método abstrato que precisa de implementação\n",
    "    #para classe deixar de ser abstrata\n",
    "    def __init__(self, num, titular):\n",
    "        super().__init__(num, titular)\n",
    "\n",
    "# classe concreta para conta poupança\n",
    "class ContaPoupanca(Conta):\n",
    "    def __init__(self, num, titular):\n",
    "        super().__init__(num, titular)\n",
    "\n",
    "    def saque(self, valor):\n",
    "        if self._saldo >= valor + 2.0:\n",
    "            self._saldo -= (valor + 2.0)\n",
    "            print('Saque de R${} realizado com sucesso'.format(valor))\n",
    "            print('Cobrada taxa de R$2')\n",
    "        else:\n",
    "            print('Saldo insuficiente')\n",
    "\n",
    "    def rende(self):\n",
    "        self._saldo = self._saldo*1.0095\n",
    "        \n",
    "class Conta2(Conta):\n",
    "    '''A classe continua sendo abstrata\n",
    "       porque não implementou todos os métodos abstratos \n",
    "       da superclasse. \n",
    "    '''\n",
    "    pass\n",
    "\n",
    "if __name__ == \"__main__\":\n",
    "\n",
    "    c2 = ContaCorrente(131, 'jose')\n",
    "    print(c2)\n",
    "\n",
    "    c3 = ContaPoupanca(144, 'maria')\n",
    "    print(c3)\n",
    "\n",
    "    #c = Conta2() # Conta2 é abstrata"
   ]
  },
  {
   "cell_type": "markdown",
   "metadata": {},
   "source": [
    "Observe no código acima que além do método `__str__`, também está implementado\n",
    "o método `__repr__`.\n",
    "\n",
    "O método `__repr__` funciona de forma idêntica ao `__str__`. A diferença é que ele é automaticamente chamado\n",
    "pelo Python (ao invés do `__str__`) quando uma string mais compacta representando o objeto deve ser usada\n",
    "(por exemplo quando uma `list` de objetos de uma classe deve ser impressa).\n",
    "\n",
    "Veja o exemplo a seguir."
   ]
  },
  {
   "cell_type": "code",
   "execution_count": 3,
   "metadata": {},
   "outputs": [
    {
     "name": "stdout",
     "output_type": "stream",
     "text": [
      "Titular: jose\n",
      "Num: 131\n",
      "Saldo: R$0.0\n",
      "------------------------\n",
      "[ContaCorrente 131 - jose: R$0.0, ContaPoupanca 144 - maria: R$0.0]\n"
     ]
    },
    {
     "data": {
      "text/plain": [
       "ContaCorrente 131 - jose: R$0.0"
      ]
     },
     "execution_count": 3,
     "metadata": {},
     "output_type": "execute_result"
    }
   ],
   "source": [
    "print(c2) # O método str é chamado\n",
    "\n",
    "l = [c2 , c3]\n",
    "print(l) # Aqui Python chama o método __repr__\n",
    "\n",
    "c2  # Aqui Python chama o método __repr__"
   ]
  },
  {
   "cell_type": "markdown",
   "metadata": {},
   "source": [
    "## 3. Observações Importantes\n",
    "\n",
    "- Em Python, quando o decorador ```abstractmethod```\n",
    "é utilizado com outros, ele deve ser\n",
    "sempre o último. Observe o exemplo:\n",
    "\n",
    "```\n",
    "class MinhaClasse(ABC):\n",
    "    @property\n",
    "    @abstractmethod # último decorador\n",
    "    def prop(self):\n",
    "        ...\n",
    "```\n",
    "\n",
    "- Em Python, um método abstrato pode possuir implementação\n",
    "  (diferentemente de C++, por exemplo)\n",
    "    - Útil para prover uma implementação base que será estendida nas classes concretas"
   ]
  },
  {
   "cell_type": "markdown",
   "metadata": {},
   "source": [
    "## Exercício de Fixação 1\n",
    "\n",
    "No diagrama de classes a seguir:\n",
    "\n",
    "- Identifique quais classes devem ser abstratas\n",
    "- Identifique quais métodos devem ser abstratos\n",
    "- Implemente as classes\n",
    "- Implemente um programa que crie uma lista de animais\n",
    "  e inicialize este vetor com alguns animais.\n",
    "  Em seguida, chame o método `emite_som`\n",
    "  com cada elemento da lista.\n",
    "  \n",
    "![Diagrama de classes](https://raw.githubusercontent.com/ect-info/POO_2021.2/master/docs/11-classes-abstratas/img/animais.png)\n",
    "\n",
    "## Exercício de Fixação 2\n",
    "\n",
    "Implemente as classes concretas `TrianguloEquilatero`,\n",
    "`Quadrado` e `Circulo` que implementa a interface pública \n",
    "especificada na classe `Figura` mostrada a seguir. Implemente\n",
    "também um programa para testar as classes e\n",
    "o diagrama de classes do sistema.\n",
    "\n",
    "```\n",
    "class Figura(ABC):\n",
    "    @property\n",
    "    @abstractmethod\n",
    "    def area(self):\n",
    "        pass\n",
    "\n",
    "    @property\n",
    "    @abstractmethod\n",
    "    def perimetro(self):\n",
    "        pass\n",
    "\n",
    "    @abstractmethod\n",
    "    def __repr__(self):\n",
    "        pass\n",
    "```"
   ]
  },
  {
   "cell_type": "code",
   "execution_count": null,
   "metadata": {},
   "outputs": [],
   "source": []
  }
 ],
 "metadata": {
  "kernelspec": {
   "display_name": "Python 3 (ipykernel)",
   "language": "python",
   "name": "python3"
  },
  "language_info": {
   "codemirror_mode": {
    "name": "ipython",
    "version": 3
   },
   "file_extension": ".py",
   "mimetype": "text/x-python",
   "name": "python",
   "nbconvert_exporter": "python",
   "pygments_lexer": "ipython3",
   "version": "3.9.7"
  }
 },
 "nbformat": 4,
 "nbformat_minor": 4
}
