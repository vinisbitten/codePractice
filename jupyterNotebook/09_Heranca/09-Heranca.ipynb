{
 "cells": [
  {
   "cell_type": "markdown",
   "metadata": {},
   "source": [
    "# Aula 9 - Atributos/métodos de Classe e Herança\n",
    "\n",
    "Neste documento é apresentado como se trabalhar em Python com:\n",
    "- Atributos/métodos de classe\n",
    "- Herança"
   ]
  },
  {
   "cell_type": "markdown",
   "metadata": {},
   "source": [
    "## 1. Atributos e Métodos de Classe\n",
    "\n",
    "Atributos e métodos de classe são compartilhados entre\n",
    "todas as instâncias daquela classe.\n",
    "\n",
    "Veja mais detalhes a seguir.\n",
    "\n",
    "### 1.1 Exemplo 1: Atributo de Classe\n",
    "\n",
    "Em Python, atributos devem ser declarados dentro\n",
    "do escopo da classe mas fora do corpo\n",
    "de qualquer método.\n",
    "\n",
    "Considere uma classe para representar um veículo\n",
    "com 4 rodas. Uma primeira tentativa de\n",
    "implementar este modelo se dá como segue."
   ]
  },
  {
   "cell_type": "code",
   "execution_count": null,
   "metadata": {},
   "outputs": [],
   "source": [
    "# Primeira tentativa\n",
    "class Veiculo4Rodas:\n",
    "    def __init__(self, nome):\n",
    "        self.nome = nome\n",
    "        self.rodas = 4 # atributo de instância\n",
    "        \n",
    "    def __str__(self):\n",
    "        return f'Veiculo {self.nome} com {self.rodas} rodas'\n",
    "\n",
    "if __name__ == '__main__':\n",
    "    # cada instância pode ter um número diferente de rodas\n",
    "    v1 = Veiculo4Rodas('carro sedan')\n",
    "    v2 = Veiculo4Rodas('carro esportivo')\n",
    "    print(v1)\n",
    "    print(v2)\n",
    "    v1.rodas = 3 # modificando a qtd. de rodas de v1\n",
    "    print(v1)\n",
    "    print(v2)"
   ]
  },
  {
   "cell_type": "markdown",
   "metadata": {},
   "source": [
    "Entretanto, observe que não faz sentido armazenar em cada instância o número de rodas de um veículo de 4 rodas, porque *todas as instâncias* desta classe devem ter exatamente 4 rodas.\n",
    "\n",
    "Faz sentido então que isto seja um atributo global da classe (compartilhado por todas as instâncias). O código a seguir mostra\n",
    "como isto pode ser implementado."
   ]
  },
  {
   "cell_type": "code",
   "execution_count": null,
   "metadata": {},
   "outputs": [],
   "source": [
    "class Veiculo4Rodas:\n",
    "    rodas = 4 # atributo de classe, compartilhado por todas as instâncias\n",
    "    def __init__(self, nome):\n",
    "        self.nome = nome\n",
    "        \n",
    "    def __str__(self):\n",
    "        # dentro da classe, o atributo da classe pode ser acessado\n",
    "        # via self ou via nome da classe\n",
    "        # utilize sempre este último para evitar confusão\n",
    "        return f'Veiculo {self.nome} com {Veiculo4Rodas.rodas} rodas'\n",
    "        #return f'Veiculo {self.nome} com {self.rodas} rodas' # funciona mas é ambíguo\n",
    "\n",
    "if __name__ == '__main__':\n",
    "    v1 = Veiculo4Rodas('carro sedan')\n",
    "    v2 = Veiculo4Rodas('carro esportivo')\n",
    "    print(v1)\n",
    "    print(v2)\n",
    "    print(v1.nome) # nome é atributo de instância\n",
    "    print(v1.rodas) # rodas é atributo de classe\n",
    "    print(Veiculo4Rodas.rodas)\n",
    "    v1.rodas += 1 # cuidado: Python cria um novo atributo de instância com base no atributo de classe\n",
    "    print(v1)\n",
    "    print(v2)\n",
    "    print(v1.rodas, v1.__class__.rodas) # v1 possui agora 2 atributos diferentes"
   ]
  },
  {
   "cell_type": "markdown",
   "metadata": {},
   "source": [
    "Observe o código abaixo para entender melhor como funciona\n",
    "a resolução de um atributo (como a linguagem determina se um atributo existe) em Python."
   ]
  },
  {
   "cell_type": "code",
   "execution_count": null,
   "metadata": {},
   "outputs": [],
   "source": [
    "class A:\n",
    "    tst = 123\n",
    "    \n",
    "    def __init__(self):\n",
    "        self.tst = 321\n",
    "        tst = 456\n",
    "    \n",
    "a1 = A()\n",
    "\n",
    "print(A.tst)\n",
    "\n",
    "print(a1.tst)\n",
    "\n",
    "print(a1.__class__.tst)\n",
    "\n",
    "A.tst = 456\n",
    "\n",
    "print(A.tst)"
   ]
  },
  {
   "cell_type": "markdown",
   "metadata": {},
   "source": [
    "### 1.2 Exemplo 2: Atributo de Classe em `Pessoa`\n",
    "\n",
    "Suponha que queiramos armazenar a quantidade de instâncias de uma classe como atributo de uma classe que representa uma `Pessoa`. Como proceder?"
   ]
  },
  {
   "cell_type": "code",
   "execution_count": null,
   "metadata": {},
   "outputs": [],
   "source": [
    "class Pessoa:\n",
    "    quant = 0 # atributo de classe\n",
    "    \n",
    "    def __init__(self, nome):\n",
    "        self._nome = nome # atributo de instância\n",
    "        Pessoa.quant += 1 # acesso ao atributo de classe com o nome da classe\n",
    "        \n",
    "if __name__ == \"__main__\":\n",
    "    p1 = Pessoa('Joao')\n",
    "    p2 = Pessoa('Maria')\n",
    "    p3 = Pessoa('Jose')\n",
    "    \n",
    "    print(Pessoa.quant) # utilize como prefixo o nome da classe e não o objeto\n",
    "    print(p1.quant) # também pode ser acessado com o nome do objeto, mas é propenso a confusões/erros\n",
    "    #print(p2.quant)\n",
    "    #print(p3.quant)"
   ]
  },
  {
   "cell_type": "markdown",
   "metadata": {},
   "source": [
    "### 1.3 Métodos de Classe\n",
    "\n",
    "Um método de classe é implementado em Python da seguinte forma:\n",
    "\n",
    "- Não tem parâmetro `self`\n",
    "- Tem o decorador `@staticmethod` informando que se trata\n",
    "  de um método de classe (estático)\n",
    "\n",
    "Um método de classe não possui o parâmetro `self` em Python\n",
    "porque ele não diz respeito a um objeto específico\n",
    "(por isso não precisa desta referência).\n",
    "\n",
    "O uso do decorador `@staticmethod` permite que o método\n",
    "de classe seja chamado também a partir de uma instância.\n",
    "\n",
    "Considerando o exemplo anterior da classe `Pessoa`,\n",
    "é interessante tornar o atributo com a quantidade de pessoas\n",
    "privado e adicionar um método de classe\n",
    "para encapsular o acesso a ele.\n",
    "\n",
    "Observe as modificações no código anterior para\n",
    "contemplar esta funcionalidade."
   ]
  },
  {
   "cell_type": "code",
   "execution_count": null,
   "metadata": {},
   "outputs": [],
   "source": [
    "class Pessoa:\n",
    "    __quant = 0 # atributo de classe, agora privado\n",
    "    \n",
    "    def __init__(self, nome):\n",
    "        self._nome = nome # atributo de instância\n",
    "        Pessoa.__quant += 1\n",
    "    \n",
    "    @staticmethod\n",
    "    def quant_pessoas(): # método de classe (não possui self)\n",
    "        return Pessoa.__quant\n",
    "    \n",
    "if __name__ == \"__main__\":\n",
    "    p1 = Pessoa('Joao')\n",
    "    p2 = Pessoa('Maria')\n",
    "    p3 = Pessoa('Jose')\n",
    "    #print(Pessoa.__quant) # erro: __quant é privado\n",
    "    print(Pessoa.quant_pessoas()) # chamada do método de classe a partir da classe\n",
    "    print(p1.quant_pessoas()) # chamada do método de classe a partir da instância\n",
    "                              # esta última forma só é possível\n",
    "                              # por causa do decorador @staticmethod"
   ]
  },
  {
   "cell_type": "markdown",
   "metadata": {},
   "source": [
    "## 2. Herança em Python\n",
    "\n",
    "Em Python, a herança é indicada com a classe base entre parênteses em cada classe derivada, como mostrado a seguir."
   ]
  },
  {
   "cell_type": "code",
   "execution_count": null,
   "metadata": {},
   "outputs": [],
   "source": [
    "# Classe A: classe base\n",
    "class A:\n",
    "    pass\n",
    "\n",
    "# Classe B: classe derivada\n",
    "class B(A):\n",
    "    pass"
   ]
  },
  {
   "cell_type": "markdown",
   "metadata": {},
   "source": [
    "### 2.1 Operador ```isinstance```\n",
    "\n",
    "Python possui a função especial ```isinstance```:\n",
    "\n",
    "- Sintaxe: ```isinstance(obj, classe)```: retorna\n",
    "  verdadeiro se ```obj``` for da classe ```classe```\n",
    "  ou falso caso contrário\n",
    "- ```isinstance``` considera a hierarquia de classes\n",
    "- `object` é a superclasse Python a partir da qual todas\n",
    "  as classes são derivadas"
   ]
  },
  {
   "cell_type": "code",
   "execution_count": null,
   "metadata": {},
   "outputs": [],
   "source": [
    "if __name__ == \"__main__\":\n",
    "    obj_a = A()\n",
    "    obj_b = B()\n",
    "    print(isinstance(obj_b, B)) # retorna verdadeiro se obj_b é uma instância da classe B\n",
    "    print(isinstance(obj_a, B)) # retorna verdadeiro se obj_a é uma instância da classe B\n",
    "    print(isinstance(obj_b, A)) # retorna verdadeiro se obj_b é uma instância da classe A\n",
    "    print(isinstance(obj_b, object)) # toda classe em Python é derivada de object"
   ]
  },
  {
   "cell_type": "markdown",
   "metadata": {},
   "source": [
    "### 2.2 Atributos e Métodos são Herdados\n",
    "\n",
    "Observe a seguir que os atributos e métodos definidos na classe `Pessoa` são herdados pela subclasse `Aluno`."
   ]
  },
  {
   "cell_type": "code",
   "execution_count": 4,
   "metadata": {},
   "outputs": [
    {
     "name": "stdout",
     "output_type": "stream",
     "text": [
      "Olá, meu nome é joao\n",
      "alice\n",
      "Olá, meu nome é alice\n"
     ]
    }
   ],
   "source": [
    "class Pessoa:\n",
    "    def __init__(self, nome, idade):\n",
    "        self._nome = nome\n",
    "        self._idade = idade\n",
    "    \n",
    "    @property\n",
    "    def nome(self):\n",
    "        return self._nome\n",
    "    \n",
    "    def se_apresenta(self):\n",
    "        print(f'Olá, meu nome é {self._nome}')     \n",
    "        \n",
    "class Aluno(Pessoa): # todo Aluno é uma Pessoa\n",
    "    pass # todos os atributos e métodos de Pessoa estão em aluno\n",
    "\n",
    "if __name__ == \"__main__\":\n",
    "    p = Pessoa('joao', 30)\n",
    "    p.se_apresenta()\n",
    "    a = Aluno('alice', 20)\n",
    "    print(a.nome)\n",
    "    a.se_apresenta()"
   ]
  },
  {
   "cell_type": "markdown",
   "metadata": {},
   "source": [
    "### 2.3 Estendendo Classes Derivadas com Novos Atributos\n",
    "\n",
    "Para definir novos atributos em classes derivadas, o método `__init__` precisa ser sobrescrito (redefinido) na classe derivada.\n",
    "Por este motivo, o método `__init__` da superclasse precisa ser explicitamente chamado, inicializando assim a parte que o objeto possui em comum a ambas as classes (superclasse e subclasse).\n",
    "O código a seguir mostra como isto é feito."
   ]
  },
  {
   "cell_type": "code",
   "execution_count": 5,
   "metadata": {},
   "outputs": [
    {
     "name": "stdout",
     "output_type": "stream",
     "text": [
      "regina\n"
     ]
    }
   ],
   "source": [
    "class Funcionario(Pessoa):\n",
    "    def __init__(self, nome, idade, salario):\n",
    "        # Reutilize código: NÃO FAÇA ASSIM\n",
    "        #self._nome = nome\n",
    "        #self._idade = idade\n",
    "        # FAÇA ASSIM: chame o inicializador da superclasse\n",
    "        #Pessoa.__init__(self, nome, idade)\n",
    "        # ou assim: (será útil mais à frente no curso)\n",
    "        super().__init__(nome, idade)\n",
    "        self._salario = salario\n",
    "\n",
    "if __name__ == \"__main__\":\n",
    "    f = Funcionario('regina', 25, 5000)\n",
    "    print(f.nome)"
   ]
  },
  {
   "cell_type": "markdown",
   "metadata": {},
   "source": [
    "### 2.4 Estendendo Classes Derivadas com Novos Métodos\n",
    "\n",
    "Classes derivadas podem ser estendidas com novos comportamentos\n",
    "através da implementação de novos métodos, como mostrado a seguir."
   ]
  },
  {
   "cell_type": "code",
   "execution_count": 6,
   "metadata": {},
   "outputs": [
    {
     "name": "stdout",
     "output_type": "stream",
     "text": [
      "regina tem salário de 5500\n"
     ]
    }
   ],
   "source": [
    "class Funcionario(Pessoa):\n",
    "    def __init__(self, nome, idade, salario):\n",
    "        Pessoa.__init__(self, nome, idade)\n",
    "        self._salario = salario\n",
    "    \n",
    "    # este get/set existe em Funcionario mas não em Pessoa\n",
    "    @property\n",
    "    def salario(self):\n",
    "        return self._salario\n",
    "    \n",
    "    @salario.setter\n",
    "    def salario(self, s):\n",
    "        self._salario = s\n",
    "\n",
    "if __name__ == \"__main__\":\n",
    "    f = Funcionario('regina', 25, 5000)\n",
    "    f.salario = 5500\n",
    "    print(f'{f.nome} tem salário de {f.salario}')\n",
    "    p = Pessoa('jose', 23)\n",
    "    #print(p.salario) # erro: Pessoa não tem salario"
   ]
  },
  {
   "cell_type": "markdown",
   "metadata": {},
   "source": [
    "#### Atributos Privados\n",
    "\n",
    "Observe que atributos privados **não** são herdados. Isto é esperado, já que os atributos que são ao mesmo tempo encapsulados e herdados seria os protegidos (`protected`), que Python não possui.\n",
    "Observe o código a seguir."
   ]
  },
  {
   "cell_type": "code",
   "execution_count": null,
   "metadata": {},
   "outputs": [],
   "source": [
    "class Pessoa:\n",
    "    def __init__(self, nome, idade):\n",
    "        self._nome = nome\n",
    "        self._idade = idade\n",
    "        self.__privado = 'valor privado'\n",
    "\n",
    "class Funcionario(Pessoa):\n",
    "    def __init__(self, nome, idade, salario):\n",
    "        Pessoa.__init__(self, nome, idade)\n",
    "    \n",
    "    # get para acessar valor encapsulado:\n",
    "    # erro ao ser chamado\n",
    "    @property\n",
    "    def privado(self):\n",
    "        return self.__privado\n",
    "\n",
    "if __name__ == \"__main__\":\n",
    "    f = Funcionario('regina', 25, 5000)\n",
    "    print(f.privado) # erro: Funcionario não tem atributo __privado"
   ]
  },
  {
   "cell_type": "markdown",
   "metadata": {},
   "source": [
    "### 2.5 Estendendo Classes Derivadas com Sobrescrita de Métodos\n",
    "\n",
    "Classes derivadas podem ser estendidas com comportamentos implementados através da sobrescrita (*override*) de métodos definidos na superclasse. Observe o exemplo a seguir."
   ]
  },
  {
   "cell_type": "code",
   "execution_count": 9,
   "metadata": {},
   "outputs": [
    {
     "name": "stdout",
     "output_type": "stream",
     "text": [
      "Olá, meu nome é judite\n",
      "Olá, meu nome é regina\n",
      "regina é um funcionário\n"
     ]
    }
   ],
   "source": [
    "class Pessoa:\n",
    "    def __init__(self, nome, idade):\n",
    "        self._nome = nome\n",
    "        self._idade = idade\n",
    "    \n",
    "    @property\n",
    "    def nome(self):\n",
    "        return self._nome\n",
    "    \n",
    "    def se_apresenta(self):\n",
    "        print(f'Olá, meu nome é {self._nome}') \n",
    "\n",
    "class Funcionario(Pessoa):\n",
    "    def __init__(self, nome, idade, salario):\n",
    "        Pessoa.__init__(self, nome, idade)\n",
    "        self._salario = salario\n",
    "    \n",
    "    # o método definido em Pessoa está sendo sobrescrito\n",
    "    def se_apresenta(self):\n",
    "        print(f'Olá, meu nome é {self._nome}')\n",
    "        print(f'{self._nome} é um funcionário')\n",
    "\n",
    "if __name__ == \"__main__\":\n",
    "    p = Pessoa('judite', 21)\n",
    "    p.se_apresenta() # implementação de Pessoa é usada\n",
    "    f = Funcionario('regina', 25, 5000)\n",
    "    f.se_apresenta() # implementação de Funcionario é usada"
   ]
  },
  {
   "cell_type": "markdown",
   "metadata": {},
   "source": [
    "Também é possível implementar métodos que estendem outros métodos implementados na superclasse. Esta funcionalidade é mostrada no exemplo a seguir."
   ]
  },
  {
   "cell_type": "code",
   "execution_count": 10,
   "metadata": {},
   "outputs": [
    {
     "name": "stdout",
     "output_type": "stream",
     "text": [
      "Olá, meu nome é regina\n",
      "regina é um funcionário\n"
     ]
    }
   ],
   "source": [
    "class Funcionario(Pessoa):\n",
    "    def __init__(self, nome, idade, salario):\n",
    "        Pessoa.__init__(self, nome, idade)\n",
    "        self._salario = salario\n",
    "    \n",
    "    # o método definido em Pessoa continua sendo sobrescrito,\n",
    "    # mas a implementação base é chamada na implementação derivada\n",
    "    def se_apresenta(self):\n",
    "        Pessoa.se_apresenta(self) # chamada da impl. base do método\n",
    "        print(f'{self._nome} é um funcionário')\n",
    "\n",
    "if __name__ == \"__main__\":\n",
    "    f = Funcionario('regina', 25, 5000)\n",
    "    f.se_apresenta()"
   ]
  },
  {
   "cell_type": "markdown",
   "metadata": {},
   "source": [
    "### 2.6 Hierarquia de Contas Bancárias\n",
    "\n",
    "O código a seguir implementa a hierarquia de contas bancárias\n",
    "que possui as seguintes características:\n",
    "\n",
    "- Existem 2 tipos de contas bancárias: conta corrente e conta poupança\n",
    "- Toda conta deve conter os métodos `saque`, `deposito` e `transferencia`\n",
    "- Apenas uma conta do tipo conta corrente pode fazer transferência pra qualquer outra conta\n",
    "- Uma conta poupança tem o método `rende`, que aplica a taxa de 0.95% sobre o saldo da poupança\n",
    "- Todo saque em uma conta poupança tem uma taxa de R$2"
   ]
  },
  {
   "cell_type": "code",
   "execution_count": null,
   "metadata": {},
   "outputs": [],
   "source": [
    "class ContaBancaria:\n",
    "    def __init__(self, numero, saldo):\n",
    "        self._numero = numero\n",
    "        self._saldo = saldo\n",
    "    \n",
    "    def saque(self, valor):\n",
    "        self._saldo -= valor\n",
    "        \n",
    "    def deposito(self, valor):\n",
    "        self._saldo += valor\n",
    "        \n",
    "    def __str__(self):\n",
    "        return f\"Numero: {self._numero}, saldo: R${self._saldo}\"\n",
    "\n",
    "class ContaCorrente(ContaBancaria):\n",
    "    def __init__(self, numero, saldo):\n",
    "        ContaBancaria.__init__(self, numero, saldo)\n",
    "    \n",
    "    # extensão de funcionalidade com novo método\n",
    "    def transfere(self, valor, conta):\n",
    "        self.saque(valor)\n",
    "        conta.deposito(valor)\n",
    "    \n",
    "    # sobrescrita de método com reutilização de implementação\n",
    "    def __str__(self):\n",
    "        s = 'Conta Corrente:\\n'\n",
    "        return s + ContaBancaria.__str__(self)\n",
    "\n",
    "class ContaPoupanca(ContaBancaria):\n",
    "    def __init__(self, numero, saldo):\n",
    "        ContaBancaria.__init__(self, numero, saldo)\n",
    "    \n",
    "    # sobrescrita de método para definição de nova lógica\n",
    "    # de um mesmo método, também utilizando código base\n",
    "    def saque(self, valor):\n",
    "        ContaBancaria.saque(self, valor + 2.0) # R$2 de taxa de saque\n",
    "    \n",
    "    # sobrescrita de método com reutilização de implementação\n",
    "    def __str__(self):\n",
    "        s = 'Conta Poupanca:\\n'\n",
    "        return s + ContaBancaria.__str__(self)\n",
    "    \n",
    "if __name__ == '__main__':\n",
    "    cc1 = ContaCorrente(111, 2000.00)\n",
    "    print(cc1)\n",
    "    cc1.deposito(100)\n",
    "    print(cc1)\n",
    "    cp1 = ContaPoupanca(222, 100.00)\n",
    "    print(cp1)\n",
    "    cc1.transfere(300, cp1)\n",
    "    cp1.saque(150)\n",
    "    print(cc1)\n",
    "    print(cp1)"
   ]
  },
  {
   "cell_type": "markdown",
   "metadata": {},
   "source": [
    "## Exercício de Fixação\n",
    "\n",
    "Implemente um sistema para vendas online de produtos com os requisitos a seguir:\n",
    "\n",
    "- Existem 2 tipos de `Produto`: `Livro` e `Jogo`\n",
    "- Todo `Produto` tem um `codigo`, `preco` e uma variável \n",
    "  que informa se existem desconto ativado para um produto\n",
    "- Para criar um produto, deve ser utilizado apenas o seu preço\n",
    "    - O seu código deve ser gerado aleatoriamente (utilize o código \n",
    "      abaixo)\n",
    "- A classe `Produto` contém o método `preco_com_desconto` que  \n",
    "  recebe como parâmetro a porcentagem do desconto e retorna o preço \n",
    "  com desconto\n",
    "- A classe `Produto` contém um atributo de classe que é uma lista \n",
    "  com todos os produtos instanciados\n",
    "- A classe `Produto` contém o método estático denominado\n",
    "  `imprime_instancias` que imprime a lista de produtos instanciados\n",
    "- Um `Livro` tem como atributos `titulo` e `autor`\n",
    "- Um `Jogo` tem como atributos `nome` e `plataforma`\n",
    "  (que indica se o jogo é para Playstation 4, Xbox One, etc.)\n",
    "- Se o desconto estiver ativado para um `Livro`, ele deve ser de \n",
    "  30%\n",
    "- Se o desconto estiver ativado para um `Jogo`, ele deve ser de 18% \n",
    "  para jogos da plataforma `PS4`, 20% para jogos da plataforma \n",
    "  `Xbox One` e 10% para qualquer outro jogo"
   ]
  },
  {
   "cell_type": "code",
   "execution_count": null,
   "metadata": {},
   "outputs": [],
   "source": [
    "import random\n",
    "\n",
    "class produto():\n",
    "    codigo = 1\n",
    "    preco = 2\n",
    "    desconto = False\n",
    "\n",
    "# Gerador de numeros aleatorios entre 1 e 999\n",
    "random.randint(100, 999)  "
   ]
  },
  {
   "cell_type": "code",
   "execution_count": null,
   "metadata": {},
   "outputs": [],
   "source": [
    "if __name__ == '__main__':\n",
    "    l1 = Livro('O homem duplicado', 'Jose Saramago', 30.00)\n",
    "    l2 = Livro('O idiota', 'Fiodor Dostoievski', 35.00)\n",
    "    l2.ativa_desconto()\n",
    "    l3 = Livro('Revolução dos bichos', 'George Orwell', 35.00)\n",
    "    j1 = Jogo('Street Fighter V', 'PS4', 200.00)\n",
    "    j2 = Jogo('Call of Duty: Black Ops Cold War', 'PS4', 250.00)\n",
    "    j2.ativa_desconto()\n",
    "    j3 = Jogo('Call of Duty: Black Ops Cold War', 'Xbox One', 250.00)\n",
    "    j3.ativa_desconto()\n",
    "    j4 = Jogo('Forza Horizon 4', 'Xbox One', 200.00)\n",
    "    j5 = Jogo('Zelda: Breath of the Wild', 'Switch', 300.00)\n",
    "    j5.ativa_desconto()\n",
    "    Produto.imprime_instancias()"
   ]
  },
  {
   "cell_type": "markdown",
   "metadata": {},
   "source": [
    "Saída esperada:\n",
    "\n",
    "```\n",
    "Livro: O homem duplicado - Jose Saramago\n",
    "Cod: 133: R$30.00\n",
    "Preço com desconto: R$30.00\n",
    "\n",
    "Livro: O idiota - Fiodor Dostoievski\n",
    "Cod: 159: R$35.00\n",
    "Preço com desconto: R$24.50\n",
    "\n",
    "Livro: Revolução dos bichos - George Orwell\n",
    "Cod: 152: R$35.00\n",
    "Preço com desconto: R$35.00\n",
    "\n",
    "Jogo: Street Fighter V - PS4\n",
    "Cod: 155: R$200.00\n",
    "Preço com desconto: R$200.00\n",
    "\n",
    "Jogo: Call of Duty: Black Ops Cold War - PS4\n",
    "Cod: 182: R$250.00\n",
    "Preço com desconto: R$205.00\n",
    "\n",
    "Jogo: Call of Duty: Black Ops Cold War - Xbox One\n",
    "Cod: 122: R$250.00\n",
    "Preço com desconto: R$200.00\n",
    "\n",
    "Jogo: Forza Horizon 4 - Xbox One\n",
    "Cod: 137: R$200.00\n",
    "Preço com desconto: R$200.00\n",
    "\n",
    "Jogo: Zelda: Breath of the Wild - Switch\n",
    "Cod: 189: R$300.00\n",
    "Preço com desconto: R$270.00\n",
    "```"
   ]
  }
 ],
 "metadata": {
  "kernelspec": {
   "display_name": "Python 3",
   "language": "python",
   "name": "python3"
  },
  "language_info": {
   "codemirror_mode": {
    "name": "ipython",
    "version": 3
   },
   "file_extension": ".py",
   "mimetype": "text/x-python",
   "name": "python",
   "nbconvert_exporter": "python",
   "pygments_lexer": "ipython3",
   "version": "3.8.8"
  }
 },
 "nbformat": 4,
 "nbformat_minor": 4
}
