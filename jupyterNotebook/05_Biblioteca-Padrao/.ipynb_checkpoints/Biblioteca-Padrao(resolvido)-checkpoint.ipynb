{
 "cells": [
  {
   "cell_type": "markdown",
   "metadata": {},
   "source": [
    "## Prática 1.3: classe `Conjunto`\n",
    "\n",
    "A biblioteca padrão Python possui uma classe para representar um conjunto, chamada de `set`. Entretanto, ao invés de usar os métodos desta classe nesta aula, você deve implementá-los.\n",
    "\n",
    "Para isto, encapsule uma lista Python (`list`) para conter os elementos do conjunto como o único atributo da classe e implemente os métodos solicitados a seguir:\n",
    "\n",
    "- `adiciona`: Adiciona objeto ao conjunto. Não faz nada se o objeto já estiver presente.\n",
    "- `interseccao`: Retorna conjunto intersecção entre o conjunto e um conjunto `c` passado como parâmetro.\n",
    "- `__contains__`: Retorna verdadeiro se elemento`e` está no conjunto. Torna possível utilizar o operador `in`.\n",
    "- `__str__`: Retorna uma `str` representando o conjunto com todos os elementos separados por vírgulas entre chaves.\n",
    "- `ehVazio`: Retorna verdadeiro se o conjunto é vazio.\n",
    "\n",
    "Utilize o código a seguir como ponto de partida."
   ]
  },
  {
   "cell_type": "code",
   "execution_count": 2,
   "metadata": {},
   "outputs": [
    {
     "name": "stdout",
     "output_type": "stream",
     "text": [
      "True\n",
      "{}\n",
      "{a, b, c}\n",
      "True\n",
      "False\n",
      "True\n",
      "{h, i, b}\n",
      "{b}\n"
     ]
    }
   ],
   "source": [
    "#prática 1.3 - resolvido\n",
    "\n",
    "class Conjunto:\n",
    "    '''Representa um conjunto de objetos'''\n",
    "    def __init__(self):\n",
    "        self.__l = []\n",
    "        \n",
    "    def ehVazio(self):\n",
    "        if not self.__l:\n",
    "            return True\n",
    "        else:\n",
    "            return False\n",
    "    \n",
    "    def adiciona(self, s):\n",
    "        if s in self.__l:\n",
    "            pass\n",
    "        else:\n",
    "            self.__l.append(s)\n",
    "    \n",
    "    def interseccao(self, l2):\n",
    "        result = Conjunto()\n",
    "        \n",
    "        for i in self.__l:\n",
    "            if i in l2.__l:\n",
    "                result.__l.append(i)\n",
    "              \n",
    "        return result\n",
    "    \n",
    "    def __str__(self):\n",
    "        vet = ''\n",
    "        \n",
    "        for (i,v) in enumerate(self.l):\n",
    "            if i < len(self.l) - 1:\n",
    "                vet += v + ', '\n",
    "            else:\n",
    "                vet += v     \n",
    "                \n",
    "        return '{'+vet+'}'\n",
    "    \n",
    "    def __contains__(self, e):\n",
    "        if e in self.__l:\n",
    "            return True\n",
    "        else:\n",
    "            return False\n",
    "        \n",
    "    @property\n",
    "    def l(self):\n",
    "        return self.__l\n",
    "    \n",
    "if __name__ == '__main__':\n",
    "    c1 = Conjunto()\n",
    "    print(c1.ehVazio())\n",
    "    print(c1)\n",
    "    c1.adiciona('a')\n",
    "    c1.adiciona('b')\n",
    "    c1.adiciona('c')\n",
    "    print(c1)\n",
    "    print('a' in c1)\n",
    "    print('g' in c1)\n",
    "    c2 = Conjunto()\n",
    "    c2.adiciona('h')\n",
    "    c2.adiciona('i')\n",
    "    c3 = c1.interseccao(c2)\n",
    "    print(c3.ehVazio())\n",
    "    c2.adiciona('b')\n",
    "    print(c2)\n",
    "    c3 = c1.interseccao(c2)\n",
    "    print(c3)"
   ]
  },
  {
   "cell_type": "markdown",
   "metadata": {},
   "source": [
    "Resposta esperada para a execução acima:\n",
    "\n",
    "```python\n",
    "True\n",
    "{}\n",
    "{a, b, c}\n",
    "True\n",
    "False\n",
    "True\n",
    "{h, i, b}\n",
    "{b}\n",
    "```"
   ]
  }
 ],
 "metadata": {
  "kernelspec": {
   "display_name": "Python 3",
   "language": "python",
   "name": "python3"
  },
  "language_info": {
   "codemirror_mode": {
    "name": "ipython",
    "version": 3
   },
   "file_extension": ".py",
   "mimetype": "text/x-python",
   "name": "python",
   "nbconvert_exporter": "python",
   "pygments_lexer": "ipython3",
   "version": "3.8.8"
  }
 },
 "nbformat": 4,
 "nbformat_minor": 4
}
