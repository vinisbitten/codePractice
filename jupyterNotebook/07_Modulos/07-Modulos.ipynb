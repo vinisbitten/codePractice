{
 "cells": [
  {
   "cell_type": "markdown",
   "metadata": {},
   "source": [
    "# Aula 7 - Módulos em Python\n",
    "\n",
    "Neste documento é apresentado como trabalhar com módulos de um programa orientado a objeto em Python."
   ]
  },
  {
   "cell_type": "markdown",
   "metadata": {},
   "source": [
    "## 1. Módulos em Python\n",
    "\n",
    "Um módulo em Python é um conjunto de constantes, funções e classes contidos em um ou mais arquivos `.py`.\n",
    "\n",
    "Módulos podem ser importados por um programa (similar ao `#include` de C++).\n",
    "\n",
    "Em Python, um módulo é um sinônimo de biblioteca."
   ]
  },
  {
   "cell_type": "markdown",
   "metadata": {},
   "source": [
    "### 1.1 Importação de Módulos\n",
    "\n",
    "Observe um exemplo a seguir de importação de módulos e uso de constantes e funções definidas dentro do módulo."
   ]
  },
  {
   "cell_type": "code",
   "execution_count": null,
   "metadata": {},
   "outputs": [],
   "source": [
    "import math # modulo da biblioteca padrão Python\n",
    "print(math.e) # constante de Euler\n",
    "print(math.sqrt(16)) # raiz quadrada"
   ]
  },
  {
   "cell_type": "markdown",
   "metadata": {},
   "source": [
    "Observe que para ser utilizados, os objetos importados do módulo precisam do prefixo com nome do módulo `math`.\n",
    "\n",
    "Alternativamente, você pode omitir o nome do módulo/prefixo se importá-lo da seguinte forma."
   ]
  },
  {
   "cell_type": "code",
   "execution_count": null,
   "metadata": {},
   "outputs": [],
   "source": [
    "from math import *\n",
    "print(e) # contante de Euler\n",
    "print(sqrt(16)) # raiz quadrada"
   ]
  },
  {
   "cell_type": "markdown",
   "metadata": {},
   "source": [
    "Ainda, você pode especificar o que deseja importar do módulo, como mostrado a seguir."
   ]
  },
  {
   "cell_type": "code",
   "execution_count": null,
   "metadata": {},
   "outputs": [],
   "source": [
    "from math import e, sqrt\n",
    "print(e)\n",
    "print(sqrt(16))"
   ]
  },
  {
   "cell_type": "markdown",
   "metadata": {},
   "source": [
    "### 1.2 Informações Sobre Módulos\n",
    "\n",
    "As funções Python `help` e `dir` podem ser utilizadas para obtermos mais informações sobre módulos.\n",
    "\n",
    "Isto é mostrado a seguir."
   ]
  },
  {
   "cell_type": "code",
   "execution_count": null,
   "metadata": {},
   "outputs": [],
   "source": [
    "import math\n",
    "dir(math) # função Python que retorna uma lista\n",
    "          # com todas as strings que são nomes de funções, constantes e\n",
    "          # classes presentes no módulo"
   ]
  },
  {
   "cell_type": "code",
   "execution_count": null,
   "metadata": {},
   "outputs": [],
   "source": [
    "import math\n",
    "help(math) # imprime ajuda do módulo"
   ]
  },
  {
   "cell_type": "markdown",
   "metadata": {},
   "source": [
    "### 1.3 Implementando os seus Próprios Módulos\n",
    "\n",
    "Em Python, todo arquivo `.py` é considerado um módulo.\n",
    "Então, uma vez que você programa um arquivo `.py`, ele pode\n",
    "ser importado por qualquer outro programa Python\n",
    "\n",
    "### 1.4 Importando os seus Próprios Módulos\n",
    "\n",
    "Baixe o arquivo [alo.py](https://raw.githubusercontent.com/ect-info/POO_2021.2/master/docs/07-modulos/alo.py)e o insira na mesma pasta que o arquivo deste notebook.\n",
    "\n",
    "O código do arquivo é o seguinte:\n",
    "\n",
    "```\n",
    "def dois():\n",
    " '''Função que retorna 2'''\n",
    " return 2\n",
    "\n",
    "class Alo:\n",
    " '''Classe ainda não implementada'''\n",
    " pass\n",
    "\n",
    "\n",
    "def f():\n",
    "    '''Funcao ainda nao implementada'''\n",
    "    pass\n",
    "\n",
    "if __name__ == '__main__':\n",
    "    # O código a seguir só é executado se este arquivo\n",
    "    # for executado no terminal.\n",
    "    # Ou seja, caso este arquivo seja importado, o\n",
    "    # código a seguir não é executado.\n",
    "    print('Executando o módulo alo.py')\n",
    "    x = dois()\n",
    "    print(f'Retorno da função dois: {x}')\n",
    "```\n",
    "\n",
    "Após fazer isto, você consegue importá-lo e trabalhar com ele, como no código a seguir."
   ]
  },
  {
   "cell_type": "code",
   "execution_count": 2,
   "metadata": {},
   "outputs": [
    {
     "name": "stdout",
     "output_type": "stream",
     "text": [
      "Help on module alo:\n",
      "\n",
      "NAME\n",
      "    alo\n",
      "\n",
      "CLASSES\n",
      "    builtins.object\n",
      "        Alo\n",
      "    \n",
      "    class Alo(builtins.object)\n",
      "     |  Classe ainda não implementada\n",
      "     |  \n",
      "     |  Data descriptors defined here:\n",
      "     |  \n",
      "     |  __dict__\n",
      "     |      dictionary for instance variables (if defined)\n",
      "     |  \n",
      "     |  __weakref__\n",
      "     |      list of weak references to the object (if defined)\n",
      "\n",
      "FUNCTIONS\n",
      "    dois()\n",
      "        Função que retorna 2\n",
      "    \n",
      "    f()\n",
      "        Funcao ainda nao implementada\n",
      "\n",
      "FILE\n",
      "    /Users/bruno/Dropbox/Teaching/POO_2021.2/github_content/docs/07-modulos/alo.py\n",
      "\n",
      "\n"
     ]
    }
   ],
   "source": [
    "import alo # importa todo o arquivo alo.py\n",
    "\n",
    "help(alo) # imprime a ajuda do módulo"
   ]
  },
  {
   "cell_type": "code",
   "execution_count": 6,
   "metadata": {},
   "outputs": [
    {
     "data": {
      "text/plain": [
       "2"
      ]
     },
     "execution_count": 6,
     "metadata": {},
     "output_type": "execute_result"
    }
   ],
   "source": [
    "# usa o módulo: \n",
    "\n",
    "o1 = alo.Alo() # cria objeto\n",
    "alo.dois() # (chama função)"
   ]
  },
  {
   "cell_type": "markdown",
   "metadata": {},
   "source": [
    "Observe que o trecho de código que pertence ao `if __name__ == '__main__':` não é executado.\n",
    "\n",
    "Isto é esperado, já que este `if` serve justamente para executar o bloco de código nele presente somente se o arquivo `alo.py` for diretamente executado em um terminal Python (e não se ele for importado)."
   ]
  },
  {
   "cell_type": "markdown",
   "metadata": {},
   "source": [
    "## Prática 1.4: Playlist Musical\n",
    "\n",
    "Desenvolva o diagrama de classes e implemente o sistema proposto a seguir. Divida o seu programa em módulos.\n",
    "\n",
    "### Classe `Musica`\n",
    "\n",
    "Atributos:\n",
    "\n",
    "- `artista`, tipo `str`, privado\n",
    "- `titulo`, tipo `str`, privado\n",
    "\n",
    "Métodos:\n",
    "\n",
    "- `__init__`: recebe como parâmetro o artista e o título da música\n",
    "- `__str__`: imprime a música no formato `Artista - Musica`\n",
    "\n",
    "### Classe `Playlist`\n",
    "\n",
    "Atributos:\n",
    "\n",
    "- `musicas`: agregação de objetos da classe `Musica` mantida em uma `list`\n",
    "\n",
    "Métodos:\n",
    "\n",
    "- `__init__`: recebe como parâmetro uma `list` de objetos da classe `Music`\n",
    "- `imprime`: imprime todas as músicas da playlist\n",
    "- `adiciona`: adiciona uma música como última a ser tocada na playlist\n",
    "- `toca_proxima`: toca a próxima música da playlist e a remove da playlist\n",
    "- `embaralha`: embaralha a playlist utilizando a função `shuffle` do módulo `random` da biblioteca padrão\n",
    "\n",
    "Observe na célula a seguir como utilizar o `shuffle`."
   ]
  },
  {
   "cell_type": "code",
   "execution_count": 1,
   "metadata": {},
   "outputs": [
    {
     "name": "stdout",
     "output_type": "stream",
     "text": [
      "[8, 6, 7, 2, 1, 3, 0, 4, 5, 9]\n"
     ]
    }
   ],
   "source": [
    "import random\n",
    "\n",
    "l = [0,1,2,3,4,5,6,7,8,9]\n",
    "random.shuffle(l) # o shuffle recebe uma lista e a embaralha\n",
    "print(l)"
   ]
  },
  {
   "cell_type": "markdown",
   "metadata": {},
   "source": [
    "Utilize o código a seguir como ponto de partida."
   ]
  },
  {
   "cell_type": "code",
   "execution_count": null,
   "metadata": {},
   "outputs": [],
   "source": [
    "import random\n",
    "from musica import Musica\n",
    "from playlist import Playlist\n",
    "\n",
    "if __name__ == '__main__':\n",
    "\n",
    "    m1 = Musica('Nirvana', 'Smells Like Teen Spirit')\n",
    "    m2 = Musica('Green Day', 'Basket Case')\n",
    "    m3 = Musica('The Offspring', 'Original Prankster')\n",
    "    m4 = Musica('Foo Fighters', 'Everlong')\n",
    "    m5 = Musica('Avril Lavigne', 'Skater Boy')\n",
    "    m6 = Musica('Papa Roach', 'Last Resort')\n",
    "    musicas = [m1, m2, m3]\n",
    "\n",
    "    pl = Playlist(musicas)\n",
    "    pl.imprime()\n",
    "\n",
    "    pl.adiciona(m4)\n",
    "    pl.imprime()\n",
    "\n",
    "    pl.toca_proxima()\n",
    "    pl.toca_proxima()\n",
    "    pl.imprime()\n",
    "\n",
    "    pl.adiciona(m5)\n",
    "    pl.adiciona(m6)\n",
    "    pl.embaralha()\n",
    "    pl.imprime()"
   ]
  },
  {
   "cell_type": "markdown",
   "metadata": {},
   "source": [
    "Saída esperada: \n",
    "\n",
    "```\n",
    "----------------\n",
    "Nirvana - Smells Like Teen Spirit\n",
    "Green Day - Basket Case\n",
    "The Offspring - Original Prankster\n",
    "----------------\n",
    "----------------\n",
    "Nirvana - Smells Like Teen Spirit\n",
    "Green Day - Basket Case\n",
    "The Offspring - Original Prankster\n",
    "Foo Fighters - Everlong\n",
    "----------------\n",
    "Tocando agora: Nirvana - Smells Like Teen Spirit\n",
    "Tocando agora: Green Day - Basket Case\n",
    "----------------\n",
    "The Offspring - Original Prankster\n",
    "Foo Fighters - Everlong\n",
    "----------------\n",
    "\n",
    "# !!! Por causa do random, a sua saída pode ser diferente desta\n",
    "----------------\n",
    "Avril Lavigne - Skater Boy \n",
    "Papa Roach - Last Resort\n",
    "Foo Fighters - Everlong\n",
    "The Offspring - Original Prankster\n",
    "----------------\n",
    "```"
   ]
  }
 ],
 "metadata": {
  "kernelspec": {
   "display_name": "Python 3",
   "language": "python",
   "name": "python3"
  },
  "language_info": {
   "codemirror_mode": {
    "name": "ipython",
    "version": 3
   },
   "file_extension": ".py",
   "mimetype": "text/x-python",
   "name": "python",
   "nbconvert_exporter": "python",
   "pygments_lexer": "ipython3",
   "version": "3.8.8"
  }
 },
 "nbformat": 4,
 "nbformat_minor": 4
}
