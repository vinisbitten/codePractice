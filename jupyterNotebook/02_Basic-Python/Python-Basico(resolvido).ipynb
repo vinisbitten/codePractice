{
 "cells": [
  {
   "cell_type": "markdown",
   "metadata": {},
   "source": [
    "## Prática 1.1 - Python Básico\n",
    "\n",
    "0. Implemente um programa que, dados três valores inteiros, informe quantos deles são pares."
   ]
  },
  {
   "cell_type": "code",
   "execution_count": null,
   "metadata": {},
   "outputs": [],
   "source": [
    "# Exercício 0 - Solução\n",
    "\n",
    "a = int(input('Informe o 1o. nr.: '))\n",
    "b = int(input('Informe o 2o. nr.: '))\n",
    "c = int(input('Informe o 3o. nr.: '))\n",
    "\n",
    "pares = 0\n",
    "\n",
    "if a % 2 == 0:\n",
    "    pares += 1\n",
    "if b % 2 == 0:\n",
    "    pares += 1\n",
    "if c % 2 ==0:\n",
    "    pares += 1\n",
    "\n",
    "print('{} numero(s) par(es)'.format(pares))"
   ]
  },
  {
   "cell_type": "markdown",
   "metadata": {},
   "source": [
    "1. Implemente um programa que leia três números inteiros denotando os lados de um triangulo.\n",
    "   Três números formam um triângulo se cada um deles for menor do que a soma dos outros dois.\n",
    "   O programa deve informar se eles formam um triângulo e em caso positivo,\n",
    "   qual é o triângulo formado (equilátero, isósceles ou escaleno)."
   ]
  },
  {
   "cell_type": "code",
   "execution_count": 11,
   "metadata": {
    "scrolled": true
   },
   "outputs": [
    {
     "name": "stdout",
     "output_type": "stream",
     "text": [
      "Informe o 1° lado: 3\n",
      "Informe o 2° lado: 4\n",
      "Informe o 3° lado: 5\n",
      "É um triangulo escaleno\n"
     ]
    }
   ],
   "source": [
    "# Exercício 1 - Solução\n",
    "\n",
    "a = int(input('Informe o 1° lado: '))\n",
    "b = int(input('Informe o 2° lado: '))\n",
    "c = int(input('Informe o 3° lado: '))\n",
    "\n",
    "flag = False\n",
    "\n",
    "if a < b + c and b < a + c and c < a + b:\n",
    "    flag = True\n",
    "\n",
    "if flag:\n",
    "    if a == b == c:\n",
    "        print('É um triangulo equilátero')\n",
    "    elif a == b or a == c or b == c:\n",
    "        print('É um triangulo isósceles')\n",
    "    else:\n",
    "        print('É um triangulo escaleno')\n",
    "else:\n",
    "    print('Não é triangulo')"
   ]
  },
  {
   "cell_type": "markdown",
   "metadata": {},
   "source": [
    "2. Implemente um programa que leia do usuário um total ```N``` de números reais e imprima na tela qual foi o maior número digitado."
   ]
  },
  {
   "cell_type": "code",
   "execution_count": 13,
   "metadata": {
    "scrolled": false
   },
   "outputs": [
    {
     "name": "stdout",
     "output_type": "stream",
     "text": [
      "Informe a quantidade de números: 5\n",
      "Informe o 1° número: 3\n",
      "Informe o 2° número: 4\n",
      "Informe o 3° número: 5\n",
      "Informe o 4° número: 1\n",
      "Informe o 5° número: 2\n",
      "O maior número é 5\n"
     ]
    }
   ],
   "source": [
    "# Exercício 2 - Solução\n",
    "\n",
    "N = int(input('Insira a quantidade de números: '))\n",
    "\n",
    "maior = float(input('Insira um número: '))\n",
    "\n",
    "for i in range(1, N):\n",
    "    x = float(input('Insira um número: '))\n",
    "\n",
    "    if x > maior:\n",
    "        maior = x\n",
    "\n",
    "print(f'Maior número: {maior}')"
   ]
  },
  {
   "cell_type": "markdown",
   "metadata": {},
   "source": [
    "3. Implemente um programa que leia do usuário um número `N` de números inteiros que fazem parte de uma sequência. O programa deve imprimir uma mensagem informando se a sequência é composta apenas de números 0s ou 1s, com a mensagem `\"sequência no padrão\"` ou com a mensagem `\"sequência não está no padrão\"`, caso algum dos números digitados não seja 0 nem 1."
   ]
  },
  {
   "cell_type": "code",
   "execution_count": null,
   "metadata": {},
   "outputs": [],
   "source": [
    "# Exercício 3 - Solução\n",
    "\n",
    "n = int(input('Insira a quantidade de números: '))\n",
    "\n",
    "for i in range(n):\n",
    "    x = int(input('Insira um número: '))\n",
    "\n",
    "    if x != 0 and x != 1:\n",
    "        print('Sequência não está no padrão')\n",
    "        break\n",
    "else:\n",
    "    print('Sequência está no padrão')"
   ]
  },
  {
   "cell_type": "markdown",
   "metadata": {},
   "source": [
    "4. Implemente uma função que receba como parâmetro um número inteiro. A função deve calcular quantos dos dígitos dos números são pares. Implemente um programa que leia do usuário um número inteiro, realize uma chamada à função e imprima o resultado calculado."
   ]
  },
  {
   "cell_type": "code",
   "execution_count": 1,
   "metadata": {},
   "outputs": [
    {
     "name": "stdout",
     "output_type": "stream",
     "text": [
      "Digite um número: 43254432556\n",
      "43254432556 Tem 6 dígito(s) pare(s)\n"
     ]
    }
   ],
   "source": [
    "# Exercício 4 - Solução\n",
    "\n",
    "def quantos_pares(n):\n",
    "    \n",
    "    pares = 0\n",
    "\n",
    "    while n >= 1:\n",
    "        if(int(n) % 2 == 0):\n",
    "            pares += 1\n",
    "        n = n/10\n",
    "    \n",
    "    return pares\n",
    "\n",
    "N = int(input('Digite um número: '))\n",
    "\n",
    "pares = quantos_pares(N)\n",
    "\n",
    "print(f'{N} Tem {pares} dígito(s) pare(s)')"
   ]
  },
  {
   "cell_type": "code",
   "execution_count": null,
   "metadata": {},
   "outputs": [],
   "source": []
  }
 ],
 "metadata": {
  "kernelspec": {
   "display_name": "Python 3 (ipykernel)",
   "language": "python",
   "name": "python3"
  },
  "language_info": {
   "codemirror_mode": {
    "name": "ipython",
    "version": 3
   },
   "file_extension": ".py",
   "mimetype": "text/x-python",
   "name": "python",
   "nbconvert_exporter": "python",
   "pygments_lexer": "ipython3",
   "version": "3.9.7"
  }
 },
 "nbformat": 4,
 "nbformat_minor": 2
}
