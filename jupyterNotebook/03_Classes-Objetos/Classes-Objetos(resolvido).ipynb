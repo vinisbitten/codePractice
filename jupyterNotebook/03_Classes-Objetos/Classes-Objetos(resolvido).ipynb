{
 "cells": [
  {
   "cell_type": "markdown",
   "metadata": {},
   "source": [
    "## Exercício para fixação: Números complexos\n",
    "\n",
    "Implemente a classe `Complexo` para representar um número complexo.\n",
    "Um número complexo é um número $Z = a + bi$, no qual $a$ é a sua parte real, $b$ é a sua parte imaginária e $i$ é $\\sqrt{-1}$.\n",
    "\n",
    "Sua classe deve oferecer os seguintes métodos:\n",
    " - `__init__`: inicializa um objeto da classe recebendo como parâmetro a sua parte real e imaginária\n",
    " - `reset`: atribui 0.0 à parte real e à parte imaginaria.\n",
    " - `__str__`: converte o número complexo em uma string no formato $a + bi$\n",
    " - `soma`: retorna um número complexo dado pela soma do próprio objeto com outro. A soma de um número complexo $Z_1 = a_1 + b_1i$ com outro $Z_2 = a_2 + b_2i$ é igual ao número complexo $Z_3 = (a_1 + a_2) + (b_1 + b_2)i$.\n",
    " - `modulo`: retorna o módulo do número complexo, dado por $\\sqrt{a^2 + b^2}$\n",
    " \n",
    "Utilize o código a seguir como ponto de partida. O código de teste para a sua classe é dado e não deve ser modificado."
   ]
  },
  {
   "cell_type": "code",
   "execution_count": 1,
   "metadata": {},
   "outputs": [
    {
     "name": "stdout",
     "output_type": "stream",
     "text": [
      "2 + 3i\n",
      "10 + 7i\n",
      "12 + 10i\n",
      "15.620499351813308\n",
      "0.0 + 0.0i\n"
     ]
    }
   ],
   "source": [
    "# Exercício para fixação: Números complexos - Solução\n",
    "\n",
    "import math\n",
    "\n",
    "class Complexo:\n",
    "    def __init__(self, a, b):\n",
    "        self.a = a\n",
    "        self.b = b\n",
    "        \n",
    "    def reset(self):\n",
    "        self.a = 0.0\n",
    "        self.b = 0.0\n",
    "        \n",
    "    def __str__(self):\n",
    "        return f'{self.a} + {self.b}i'\n",
    "        \n",
    "    def soma(self, z2):\n",
    "        a = self.a + z2.a\n",
    "        b = self.b + z2.b\n",
    "\n",
    "        return Complexo(a, b)\n",
    "        \n",
    "    def modulo(self):\n",
    "        return math.sqrt(self.a**2 + self.b**2)\n",
    "\n",
    "if __name__ == '__main__':\n",
    "\n",
    "    c1 = Complexo(2, 3)\n",
    "    c2 = Complexo(10, 7)\n",
    "    print(c1)\n",
    "    print(c2)\n",
    "\n",
    "    c3 = c1.soma(c2)\n",
    "    print(c3)\n",
    "    print(c3.modulo())\n",
    "\n",
    "    c3.reset()\n",
    "    print(c3)"
   ]
  },
  {
   "cell_type": "markdown",
   "metadata": {},
   "source": [
    "Saída esperada:\n",
    "\n",
    "```\n",
    "2 + 3i\n",
    "10 + 7i\n",
    "12 + 10i\n",
    "15.620499351813308\n",
    "0.0 + 0.0i\n",
    "```"
   ]
  }
 ],
 "metadata": {
  "kernelspec": {
   "display_name": "Python 3",
   "language": "python",
   "name": "python3"
  },
  "language_info": {
   "codemirror_mode": {
    "name": "ipython",
    "version": 3
   },
   "file_extension": ".py",
   "mimetype": "text/x-python",
   "name": "python",
   "nbconvert_exporter": "python",
   "pygments_lexer": "ipython3",
   "version": "3.8.8"
  }
 },
 "nbformat": 4,
 "nbformat_minor": 4
}
